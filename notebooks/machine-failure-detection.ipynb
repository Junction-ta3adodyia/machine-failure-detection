{
 "cells": [
  {
   "cell_type": "code",
   "execution_count": 172,
   "metadata": {
    "_cell_guid": "b1076dfc-b9ad-4769-8c92-a6c4dae69d19",
    "_uuid": "8f2839f25d086af736a60e9eeb907d3b93b6e0e5",
    "execution": {
     "iopub.execute_input": "2025-07-18T21:59:42.222206Z",
     "iopub.status.busy": "2025-07-18T21:59:42.221896Z",
     "iopub.status.idle": "2025-07-18T21:59:42.228981Z",
     "shell.execute_reply": "2025-07-18T21:59:42.228025Z",
     "shell.execute_reply.started": "2025-07-18T21:59:42.222172Z"
    },
    "trusted": true
   },
   "outputs": [],
   "source": [
    "import pandas as pd\n",
    "import numpy as np\n",
    "import seaborn as sns\n",
    "import matplotlib.pyplot as plt\n",
    "%matplotlib inline\n",
    "\n",
    "sns.set_style(\"darkgrid\")"
   ]
  },
  {
   "cell_type": "code",
   "execution_count": 173,
   "metadata": {
    "execution": {
     "iopub.execute_input": "2025-07-18T21:59:42.230647Z",
     "iopub.status.busy": "2025-07-18T21:59:42.230331Z",
     "iopub.status.idle": "2025-07-18T21:59:42.256402Z",
     "shell.execute_reply": "2025-07-18T21:59:42.255622Z",
     "shell.execute_reply.started": "2025-07-18T21:59:42.230586Z"
    },
    "trusted": true
   },
   "outputs": [],
   "source": [
    "data = pd.read_csv('../input/machine-predictive-maintenance-classification/predictive_maintenance.csv')"
   ]
  },
  {
   "cell_type": "code",
   "execution_count": 174,
   "metadata": {
    "execution": {
     "iopub.execute_input": "2025-07-18T21:59:42.258349Z",
     "iopub.status.busy": "2025-07-18T21:59:42.258043Z",
     "iopub.status.idle": "2025-07-18T21:59:42.272881Z",
     "shell.execute_reply": "2025-07-18T21:59:42.271972Z",
     "shell.execute_reply.started": "2025-07-18T21:59:42.258310Z"
    },
    "trusted": true
   },
   "outputs": [
    {
     "data": {
      "text/html": [
       "<div>\n",
       "<style scoped>\n",
       "    .dataframe tbody tr th:only-of-type {\n",
       "        vertical-align: middle;\n",
       "    }\n",
       "\n",
       "    .dataframe tbody tr th {\n",
       "        vertical-align: top;\n",
       "    }\n",
       "\n",
       "    .dataframe thead th {\n",
       "        text-align: right;\n",
       "    }\n",
       "</style>\n",
       "<table border=\"1\" class=\"dataframe\">\n",
       "  <thead>\n",
       "    <tr style=\"text-align: right;\">\n",
       "      <th></th>\n",
       "      <th>UDI</th>\n",
       "      <th>Product ID</th>\n",
       "      <th>Type</th>\n",
       "      <th>Air temperature [K]</th>\n",
       "      <th>Process temperature [K]</th>\n",
       "      <th>Rotational speed [rpm]</th>\n",
       "      <th>Torque [Nm]</th>\n",
       "      <th>Tool wear [min]</th>\n",
       "      <th>Target</th>\n",
       "      <th>Failure Type</th>\n",
       "    </tr>\n",
       "  </thead>\n",
       "  <tbody>\n",
       "    <tr>\n",
       "      <th>0</th>\n",
       "      <td>1</td>\n",
       "      <td>M14860</td>\n",
       "      <td>M</td>\n",
       "      <td>298.1</td>\n",
       "      <td>308.6</td>\n",
       "      <td>1551</td>\n",
       "      <td>42.8</td>\n",
       "      <td>0</td>\n",
       "      <td>0</td>\n",
       "      <td>No Failure</td>\n",
       "    </tr>\n",
       "    <tr>\n",
       "      <th>1</th>\n",
       "      <td>2</td>\n",
       "      <td>L47181</td>\n",
       "      <td>L</td>\n",
       "      <td>298.2</td>\n",
       "      <td>308.7</td>\n",
       "      <td>1408</td>\n",
       "      <td>46.3</td>\n",
       "      <td>3</td>\n",
       "      <td>0</td>\n",
       "      <td>No Failure</td>\n",
       "    </tr>\n",
       "    <tr>\n",
       "      <th>2</th>\n",
       "      <td>3</td>\n",
       "      <td>L47182</td>\n",
       "      <td>L</td>\n",
       "      <td>298.1</td>\n",
       "      <td>308.5</td>\n",
       "      <td>1498</td>\n",
       "      <td>49.4</td>\n",
       "      <td>5</td>\n",
       "      <td>0</td>\n",
       "      <td>No Failure</td>\n",
       "    </tr>\n",
       "    <tr>\n",
       "      <th>3</th>\n",
       "      <td>4</td>\n",
       "      <td>L47183</td>\n",
       "      <td>L</td>\n",
       "      <td>298.2</td>\n",
       "      <td>308.6</td>\n",
       "      <td>1433</td>\n",
       "      <td>39.5</td>\n",
       "      <td>7</td>\n",
       "      <td>0</td>\n",
       "      <td>No Failure</td>\n",
       "    </tr>\n",
       "    <tr>\n",
       "      <th>4</th>\n",
       "      <td>5</td>\n",
       "      <td>L47184</td>\n",
       "      <td>L</td>\n",
       "      <td>298.2</td>\n",
       "      <td>308.7</td>\n",
       "      <td>1408</td>\n",
       "      <td>40.0</td>\n",
       "      <td>9</td>\n",
       "      <td>0</td>\n",
       "      <td>No Failure</td>\n",
       "    </tr>\n",
       "  </tbody>\n",
       "</table>\n",
       "</div>"
      ],
      "text/plain": [
       "   UDI Product ID Type  Air temperature [K]  Process temperature [K]  \\\n",
       "0    1     M14860    M                298.1                    308.6   \n",
       "1    2     L47181    L                298.2                    308.7   \n",
       "2    3     L47182    L                298.1                    308.5   \n",
       "3    4     L47183    L                298.2                    308.6   \n",
       "4    5     L47184    L                298.2                    308.7   \n",
       "\n",
       "   Rotational speed [rpm]  Torque [Nm]  Tool wear [min]  Target Failure Type  \n",
       "0                    1551         42.8                0       0   No Failure  \n",
       "1                    1408         46.3                3       0   No Failure  \n",
       "2                    1498         49.4                5       0   No Failure  \n",
       "3                    1433         39.5                7       0   No Failure  \n",
       "4                    1408         40.0                9       0   No Failure  "
      ]
     },
     "execution_count": 174,
     "metadata": {},
     "output_type": "execute_result"
    }
   ],
   "source": [
    "data.head()"
   ]
  },
  {
   "cell_type": "code",
   "execution_count": 175,
   "metadata": {
    "execution": {
     "iopub.execute_input": "2025-07-18T21:59:42.274504Z",
     "iopub.status.busy": "2025-07-18T21:59:42.274189Z",
     "iopub.status.idle": "2025-07-18T21:59:42.294126Z",
     "shell.execute_reply": "2025-07-18T21:59:42.293268Z",
     "shell.execute_reply.started": "2025-07-18T21:59:42.274453Z"
    },
    "trusted": true
   },
   "outputs": [
    {
     "name": "stdout",
     "output_type": "stream",
     "text": [
      "<class 'pandas.core.frame.DataFrame'>\n",
      "RangeIndex: 10000 entries, 0 to 9999\n",
      "Data columns (total 10 columns):\n",
      " #   Column                   Non-Null Count  Dtype  \n",
      "---  ------                   --------------  -----  \n",
      " 0   UDI                      10000 non-null  int64  \n",
      " 1   Product ID               10000 non-null  object \n",
      " 2   Type                     10000 non-null  object \n",
      " 3   Air temperature [K]      10000 non-null  float64\n",
      " 4   Process temperature [K]  10000 non-null  float64\n",
      " 5   Rotational speed [rpm]   10000 non-null  int64  \n",
      " 6   Torque [Nm]              10000 non-null  float64\n",
      " 7   Tool wear [min]          10000 non-null  int64  \n",
      " 8   Target                   10000 non-null  int64  \n",
      " 9   Failure Type             10000 non-null  object \n",
      "dtypes: float64(3), int64(4), object(3)\n",
      "memory usage: 781.4+ KB\n"
     ]
    }
   ],
   "source": [
    "data.info()"
   ]
  },
  {
   "cell_type": "markdown",
   "metadata": {},
   "source": [
    "# Data Preprocessing"
   ]
  },
  {
   "cell_type": "markdown",
   "metadata": {},
   "source": [
    "The UDI and Product ID column is not needed as it doesnt carry any useful information"
   ]
  },
  {
   "cell_type": "code",
   "execution_count": 176,
   "metadata": {
    "execution": {
     "iopub.execute_input": "2025-07-18T21:59:42.295468Z",
     "iopub.status.busy": "2025-07-18T21:59:42.295250Z",
     "iopub.status.idle": "2025-07-18T21:59:42.310729Z",
     "shell.execute_reply": "2025-07-18T21:59:42.309825Z",
     "shell.execute_reply.started": "2025-07-18T21:59:42.295442Z"
    },
    "trusted": true
   },
   "outputs": [
    {
     "data": {
      "text/html": [
       "<div>\n",
       "<style scoped>\n",
       "    .dataframe tbody tr th:only-of-type {\n",
       "        vertical-align: middle;\n",
       "    }\n",
       "\n",
       "    .dataframe tbody tr th {\n",
       "        vertical-align: top;\n",
       "    }\n",
       "\n",
       "    .dataframe thead th {\n",
       "        text-align: right;\n",
       "    }\n",
       "</style>\n",
       "<table border=\"1\" class=\"dataframe\">\n",
       "  <thead>\n",
       "    <tr style=\"text-align: right;\">\n",
       "      <th></th>\n",
       "      <th>Type</th>\n",
       "      <th>Air temperature [K]</th>\n",
       "      <th>Process temperature [K]</th>\n",
       "      <th>Rotational speed [rpm]</th>\n",
       "      <th>Torque [Nm]</th>\n",
       "      <th>Tool wear [min]</th>\n",
       "      <th>Target</th>\n",
       "      <th>Failure Type</th>\n",
       "    </tr>\n",
       "  </thead>\n",
       "  <tbody>\n",
       "    <tr>\n",
       "      <th>0</th>\n",
       "      <td>M</td>\n",
       "      <td>298.1</td>\n",
       "      <td>308.6</td>\n",
       "      <td>1551</td>\n",
       "      <td>42.8</td>\n",
       "      <td>0</td>\n",
       "      <td>0</td>\n",
       "      <td>No Failure</td>\n",
       "    </tr>\n",
       "    <tr>\n",
       "      <th>1</th>\n",
       "      <td>L</td>\n",
       "      <td>298.2</td>\n",
       "      <td>308.7</td>\n",
       "      <td>1408</td>\n",
       "      <td>46.3</td>\n",
       "      <td>3</td>\n",
       "      <td>0</td>\n",
       "      <td>No Failure</td>\n",
       "    </tr>\n",
       "    <tr>\n",
       "      <th>2</th>\n",
       "      <td>L</td>\n",
       "      <td>298.1</td>\n",
       "      <td>308.5</td>\n",
       "      <td>1498</td>\n",
       "      <td>49.4</td>\n",
       "      <td>5</td>\n",
       "      <td>0</td>\n",
       "      <td>No Failure</td>\n",
       "    </tr>\n",
       "  </tbody>\n",
       "</table>\n",
       "</div>"
      ],
      "text/plain": [
       "  Type  Air temperature [K]  Process temperature [K]  Rotational speed [rpm]  \\\n",
       "0    M                298.1                    308.6                    1551   \n",
       "1    L                298.2                    308.7                    1408   \n",
       "2    L                298.1                    308.5                    1498   \n",
       "\n",
       "   Torque [Nm]  Tool wear [min]  Target Failure Type  \n",
       "0         42.8                0       0   No Failure  \n",
       "1         46.3                3       0   No Failure  \n",
       "2         49.4                5       0   No Failure  "
      ]
     },
     "execution_count": 176,
     "metadata": {},
     "output_type": "execute_result"
    }
   ],
   "source": [
    "data = data.drop([\"UDI\",'Product ID'],axis=1)\n",
    "data.head(3)"
   ]
  },
  {
   "cell_type": "markdown",
   "metadata": {},
   "source": [
    "### Note : We will focus on target detection for now and ignore error type"
   ]
  },
  {
   "cell_type": "markdown",
   "metadata": {},
   "source": [
    "# Pre Processing for Prediction "
   ]
  },
  {
   "cell_type": "markdown",
   "metadata": {},
   "source": [
    "## Encoding"
   ]
  },
  {
   "cell_type": "code",
   "execution_count": 180,
   "metadata": {
    "execution": {
     "iopub.execute_input": "2025-07-18T21:59:42.380807Z",
     "iopub.status.busy": "2025-07-18T21:59:42.380516Z",
     "iopub.status.idle": "2025-07-18T21:59:42.388027Z",
     "shell.execute_reply": "2025-07-18T21:59:42.387034Z",
     "shell.execute_reply.started": "2025-07-18T21:59:42.380769Z"
    },
    "trusted": true
   },
   "outputs": [],
   "source": [
    "from sklearn.preprocessing import LabelEncoder\n",
    "label_encoder = LabelEncoder()\n",
    "\n",
    "label_encoder.fit(data['Target'])\n",
    "data['Target'] = label_encoder.transform(data['Target'])"
   ]
  },
  {
   "cell_type": "code",
   "execution_count": 181,
   "metadata": {
    "execution": {
     "iopub.execute_input": "2025-07-18T21:59:42.389335Z",
     "iopub.status.busy": "2025-07-18T21:59:42.389110Z",
     "iopub.status.idle": "2025-07-18T21:59:42.411805Z",
     "shell.execute_reply": "2025-07-18T21:59:42.410903Z",
     "shell.execute_reply.started": "2025-07-18T21:59:42.389308Z"
    },
    "trusted": true
   },
   "outputs": [
    {
     "data": {
      "text/html": [
       "<div>\n",
       "<style scoped>\n",
       "    .dataframe tbody tr th:only-of-type {\n",
       "        vertical-align: middle;\n",
       "    }\n",
       "\n",
       "    .dataframe tbody tr th {\n",
       "        vertical-align: top;\n",
       "    }\n",
       "\n",
       "    .dataframe thead th {\n",
       "        text-align: right;\n",
       "    }\n",
       "</style>\n",
       "<table border=\"1\" class=\"dataframe\">\n",
       "  <thead>\n",
       "    <tr style=\"text-align: right;\">\n",
       "      <th></th>\n",
       "      <th>Type</th>\n",
       "      <th>Air temperature [K]</th>\n",
       "      <th>Process temperature [K]</th>\n",
       "      <th>Rotational speed [rpm]</th>\n",
       "      <th>Torque [Nm]</th>\n",
       "      <th>Tool wear [min]</th>\n",
       "      <th>Target</th>\n",
       "      <th>Failure Type</th>\n",
       "    </tr>\n",
       "  </thead>\n",
       "  <tbody>\n",
       "    <tr>\n",
       "      <th>9995</th>\n",
       "      <td>M</td>\n",
       "      <td>298.8</td>\n",
       "      <td>308.4</td>\n",
       "      <td>1604</td>\n",
       "      <td>29.5</td>\n",
       "      <td>14</td>\n",
       "      <td>0</td>\n",
       "      <td>No Failure</td>\n",
       "    </tr>\n",
       "    <tr>\n",
       "      <th>9996</th>\n",
       "      <td>H</td>\n",
       "      <td>298.9</td>\n",
       "      <td>308.4</td>\n",
       "      <td>1632</td>\n",
       "      <td>31.8</td>\n",
       "      <td>17</td>\n",
       "      <td>0</td>\n",
       "      <td>No Failure</td>\n",
       "    </tr>\n",
       "    <tr>\n",
       "      <th>9997</th>\n",
       "      <td>M</td>\n",
       "      <td>299.0</td>\n",
       "      <td>308.6</td>\n",
       "      <td>1645</td>\n",
       "      <td>33.4</td>\n",
       "      <td>22</td>\n",
       "      <td>0</td>\n",
       "      <td>No Failure</td>\n",
       "    </tr>\n",
       "    <tr>\n",
       "      <th>9998</th>\n",
       "      <td>H</td>\n",
       "      <td>299.0</td>\n",
       "      <td>308.7</td>\n",
       "      <td>1408</td>\n",
       "      <td>48.5</td>\n",
       "      <td>25</td>\n",
       "      <td>0</td>\n",
       "      <td>No Failure</td>\n",
       "    </tr>\n",
       "    <tr>\n",
       "      <th>9999</th>\n",
       "      <td>M</td>\n",
       "      <td>299.0</td>\n",
       "      <td>308.7</td>\n",
       "      <td>1500</td>\n",
       "      <td>40.2</td>\n",
       "      <td>30</td>\n",
       "      <td>0</td>\n",
       "      <td>No Failure</td>\n",
       "    </tr>\n",
       "  </tbody>\n",
       "</table>\n",
       "</div>"
      ],
      "text/plain": [
       "     Type  Air temperature [K]  Process temperature [K]  \\\n",
       "9995    M                298.8                    308.4   \n",
       "9996    H                298.9                    308.4   \n",
       "9997    M                299.0                    308.6   \n",
       "9998    H                299.0                    308.7   \n",
       "9999    M                299.0                    308.7   \n",
       "\n",
       "      Rotational speed [rpm]  Torque [Nm]  Tool wear [min]  Target  \\\n",
       "9995                    1604         29.5               14       0   \n",
       "9996                    1632         31.8               17       0   \n",
       "9997                    1645         33.4               22       0   \n",
       "9998                    1408         48.5               25       0   \n",
       "9999                    1500         40.2               30       0   \n",
       "\n",
       "     Failure Type  \n",
       "9995   No Failure  \n",
       "9996   No Failure  \n",
       "9997   No Failure  \n",
       "9998   No Failure  \n",
       "9999   No Failure  "
      ]
     },
     "execution_count": 181,
     "metadata": {},
     "output_type": "execute_result"
    }
   ],
   "source": [
    "data.tail()"
   ]
  },
  {
   "cell_type": "code",
   "execution_count": 182,
   "metadata": {
    "execution": {
     "iopub.execute_input": "2025-07-18T21:59:42.413253Z",
     "iopub.status.busy": "2025-07-18T21:59:42.412990Z",
     "iopub.status.idle": "2025-07-18T21:59:42.424721Z",
     "shell.execute_reply": "2025-07-18T21:59:42.423770Z",
     "shell.execute_reply.started": "2025-07-18T21:59:42.413219Z"
    },
    "trusted": true
   },
   "outputs": [],
   "source": [
    "data = data.rename(columns = {'Air temperature [K]':'airtemp',\n",
    "                      'Process temperature [K]':'processtemp',\n",
    "                      'Rotational speed [rpm]':'rpm',\n",
    "                      'Torque [Nm]':'torque',\n",
    "                      'Tool wear [min]':'toolwear'})"
   ]
  },
  {
   "cell_type": "markdown",
   "metadata": {},
   "source": [
    "## Test Tain Split"
   ]
  },
  {
   "cell_type": "code",
   "execution_count": 183,
   "metadata": {
    "execution": {
     "iopub.execute_input": "2025-07-18T21:59:42.426475Z",
     "iopub.status.busy": "2025-07-18T21:59:42.426136Z",
     "iopub.status.idle": "2025-07-18T21:59:42.435128Z",
     "shell.execute_reply": "2025-07-18T21:59:42.434244Z",
     "shell.execute_reply.started": "2025-07-18T21:59:42.426432Z"
    },
    "trusted": true
   },
   "outputs": [],
   "source": [
    "from sklearn.model_selection import train_test_split"
   ]
  },
  {
   "cell_type": "code",
   "execution_count": 184,
   "metadata": {
    "execution": {
     "iopub.execute_input": "2025-07-18T21:59:42.436625Z",
     "iopub.status.busy": "2025-07-18T21:59:42.436390Z",
     "iopub.status.idle": "2025-07-18T21:59:42.454354Z",
     "shell.execute_reply": "2025-07-18T21:59:42.453392Z",
     "shell.execute_reply.started": "2025-07-18T21:59:42.436597Z"
    },
    "trusted": true
   },
   "outputs": [],
   "source": [
    "X_train, X_test, y_train, y_test = train_test_split(data.drop(['Failure Type','Target', 'Type'],axis=1),\n",
    "                                                    data['Target'], test_size=0.3, random_state=42)"
   ]
  },
  {
   "cell_type": "markdown",
   "metadata": {},
   "source": [
    "## Prediction"
   ]
  },
  {
   "cell_type": "code",
   "execution_count": 185,
   "metadata": {
    "_kg_hide-input": true,
    "execution": {
     "iopub.execute_input": "2025-07-18T21:59:42.456336Z",
     "iopub.status.busy": "2025-07-18T21:59:42.456016Z",
     "iopub.status.idle": "2025-07-18T21:59:42.476696Z",
     "shell.execute_reply": "2025-07-18T21:59:42.475685Z",
     "shell.execute_reply.started": "2025-07-18T21:59:42.456294Z"
    },
    "trusted": true
   },
   "outputs": [
    {
     "name": "stdout",
     "output_type": "stream",
     "text": [
      "All Models Imported\n",
      "Models stored in dataframe called classifiers\n"
     ]
    }
   ],
   "source": [
    "import time\n",
    "\n",
    "from sklearn.metrics import accuracy_score,classification_report\n",
    "classifier=[]\n",
    "imported_as=[]\n",
    "\n",
    "#LGBM\n",
    "import lightgbm as lgb\n",
    "lgbm = lgb.LGBMClassifier()\n",
    "classifier.append('LightGBM')\n",
    "imported_as.append('lgbm')\n",
    "\n",
    "#MultiLayerPerceptron\n",
    "from sklearn.neural_network import MLPClassifier\n",
    "mlp=MLPClassifier()\n",
    "classifier.append('Multi Layer Perceptron')\n",
    "imported_as.append('mlp')\n",
    "\n",
    "#Bagging\n",
    "from sklearn.ensemble import BaggingClassifier\n",
    "bc = BaggingClassifier()\n",
    "classifier.append('Bagging')\n",
    "imported_as.append('bc')\n",
    "\n",
    "#GBC\n",
    "from sklearn.ensemble import GradientBoostingClassifier\n",
    "gbc = GradientBoostingClassifier()\n",
    "classifier.append('Gradient Boosting')\n",
    "imported_as.append('gbc')\n",
    "\n",
    "#ADA\n",
    "from sklearn.ensemble import AdaBoostClassifier\n",
    "ada = AdaBoostClassifier()\n",
    "classifier.append('Ada Boost')\n",
    "imported_as.append('ada')\n",
    "\n",
    "#XGB\n",
    "import xgboost as xgb\n",
    "from xgboost import XGBClassifier\n",
    "xgb = XGBClassifier() \n",
    "classifier.append('XG Boost')\n",
    "imported_as.append('xgb')\n",
    "\n",
    "# Logistic Regression\n",
    "from sklearn.linear_model import LogisticRegression\n",
    "lr = LogisticRegression()\n",
    "classifier.append('Logistic Regression')\n",
    "imported_as.append('lr')\n",
    "\n",
    "#RFC\n",
    "from sklearn.ensemble import RandomForestClassifier\n",
    "rfc = RandomForestClassifier()\n",
    "classifier.append('Random Forest')\n",
    "imported_as.append('rfc')\n",
    "\n",
    "#KNN\n",
    "from sklearn.neighbors import KNeighborsClassifier\n",
    "knn = KNeighborsClassifier(n_neighbors=1)\n",
    "classifier.append('k Nearest Neighbours')\n",
    "imported_as.append('knn')\n",
    "\n",
    "#SVM\n",
    "from sklearn.svm import SVC\n",
    "svc = SVC()\n",
    "classifier.append('Support Vector Machine')\n",
    "imported_as.append('svc')\n",
    "\n",
    "#Grid\n",
    "from sklearn.model_selection import GridSearchCV\n",
    "param_grid = {'C': [0.1,1, 10, 100, 1000,2000], 'gamma': [1,0.1,0.01,0.001,0.0001], 'kernel': ['rbf']} \n",
    "grid = GridSearchCV(SVC(),param_grid,refit=True,verbose=3)\n",
    "classifier.append('SVM tuning grid')\n",
    "imported_as.append('grid')\n",
    "\n",
    "#STcaking\n",
    "from sklearn.ensemble import StackingClassifier\n",
    "estimators=[('rf', RandomForestClassifier(n_estimators=10, random_state=42)),\n",
    "            ('svr',SVC(random_state=42))]\n",
    "stc = StackingClassifier(estimators=estimators, final_estimator=LogisticRegression())\n",
    "classifier.append('Stacked (RFR & SVM)')\n",
    "imported_as.append('stc')\n",
    "\n",
    "classifiers = pd.DataFrame({'Classifier':classifier,'Imported as':imported_as})\n",
    "print('All Models Imported\\nModels stored in dataframe called classifiers')"
   ]
  },
  {
   "cell_type": "code",
   "execution_count": 186,
   "metadata": {
    "_kg_hide-input": true,
    "execution": {
     "iopub.execute_input": "2025-07-18T21:59:42.478478Z",
     "iopub.status.busy": "2025-07-18T21:59:42.478233Z",
     "iopub.status.idle": "2025-07-18T21:59:42.497759Z",
     "shell.execute_reply": "2025-07-18T21:59:42.496780Z",
     "shell.execute_reply.started": "2025-07-18T21:59:42.478442Z"
    },
    "trusted": true
   },
   "outputs": [],
   "source": [
    "class Modelling:\n",
    "    def __init__(self, X_train, Y_train, X_test, Y_test, models):\n",
    "        self.X_train = X_train\n",
    "        self.X_test = X_test\n",
    "        self.Y_train = Y_train\n",
    "        self.Y_test = Y_test\n",
    "        self.models = models\n",
    "    \n",
    "    def fit(self):\n",
    "        model_acc = []\n",
    "        model_time= []\n",
    "        for i in self.models:\n",
    "            start=time.time()\n",
    "            if i == 'knn':\n",
    "                accuracy = []\n",
    "                for j in range(1,200):    \n",
    "                    kn = KNeighborsClassifier(n_neighbors=j)\n",
    "                    kn.fit(self.X_train,self.Y_train)\n",
    "                    predK = kn.predict(self.X_test)\n",
    "                    accuracy.append([accuracy_score(self.Y_test,predK),j])\n",
    "                temp = accuracy[0]\n",
    "                for m in accuracy:\n",
    "                    if temp[0] < m[0]:\n",
    "                        temp=m\n",
    "                i = KNeighborsClassifier(n_neighbors=temp[1])\n",
    "            i.fit(self.X_train,self.Y_train)\n",
    "            model_acc.append(accuracy_score(self.Y_test,i.predict(self.X_test)))\n",
    "            stop=time.time()\n",
    "            model_time.append((stop-start))\n",
    "            print(i,'has been fit')\n",
    "        self.models_output = pd.DataFrame({'Models':self.models,'Accuracy':model_acc,'Runtime (s)':model_time})\n",
    "        \n",
    "    def results(self):\n",
    "        models=self.models_output\n",
    "        models = models.sort_values(by=['Accuracy','Runtime (s)'],ascending=[False,True]).reset_index().drop('index',axis=1)\n",
    "        self.best = models['Models'][0]\n",
    "        models['Models']=models['Models'].astype(str).str.split(\"(\", n = 2, expand = True)[0]\n",
    "        models['Accuracy']=models['Accuracy'].round(5)*100\n",
    "        self.models_output_cleaned=models\n",
    "        return(models)\n",
    "        \n",
    "    def best_model(self,type):\n",
    "        if type=='model':\n",
    "            return(self.best)\n",
    "        elif type=='name':\n",
    "            return(self.models_output_cleaned['Models'][0])\n",
    "    \n",
    "    def best_model_accuracy(self):\n",
    "        return(self.models_output_cleaned['Accuracy'][0])\n",
    "    \n",
    "    def best_model_runtime(self):\n",
    "        return(round(self.models_output_cleaned['Runtime (s)'][0],3))\n",
    "    \n",
    "    def best_model_predict(self,X_test):\n",
    "        return(self.best.predict(X_test))\n",
    "    \n",
    "    def best_model_clmatrix(self):\n",
    "        return(classification_report(self.Y_test,self.best.predict(self.X_test)))"
   ]
  },
  {
   "cell_type": "code",
   "execution_count": 187,
   "metadata": {
    "execution": {
     "iopub.execute_input": "2025-07-18T21:59:42.499685Z",
     "iopub.status.busy": "2025-07-18T21:59:42.499467Z",
     "iopub.status.idle": "2025-07-18T21:59:42.519882Z",
     "shell.execute_reply": "2025-07-18T21:59:42.519017Z",
     "shell.execute_reply.started": "2025-07-18T21:59:42.499659Z"
    },
    "trusted": true
   },
   "outputs": [
    {
     "data": {
      "text/html": [
       "<div>\n",
       "<style scoped>\n",
       "    .dataframe tbody tr th:only-of-type {\n",
       "        vertical-align: middle;\n",
       "    }\n",
       "\n",
       "    .dataframe tbody tr th {\n",
       "        vertical-align: top;\n",
       "    }\n",
       "\n",
       "    .dataframe thead th {\n",
       "        text-align: right;\n",
       "    }\n",
       "</style>\n",
       "<table border=\"1\" class=\"dataframe\">\n",
       "  <thead>\n",
       "    <tr style=\"text-align: right;\">\n",
       "      <th></th>\n",
       "      <th>Classifier</th>\n",
       "      <th>Imported as</th>\n",
       "    </tr>\n",
       "  </thead>\n",
       "  <tbody>\n",
       "    <tr>\n",
       "      <th>0</th>\n",
       "      <td>LightGBM</td>\n",
       "      <td>lgbm</td>\n",
       "    </tr>\n",
       "    <tr>\n",
       "      <th>1</th>\n",
       "      <td>Multi Layer Perceptron</td>\n",
       "      <td>mlp</td>\n",
       "    </tr>\n",
       "    <tr>\n",
       "      <th>2</th>\n",
       "      <td>Bagging</td>\n",
       "      <td>bc</td>\n",
       "    </tr>\n",
       "    <tr>\n",
       "      <th>3</th>\n",
       "      <td>Gradient Boosting</td>\n",
       "      <td>gbc</td>\n",
       "    </tr>\n",
       "    <tr>\n",
       "      <th>4</th>\n",
       "      <td>Ada Boost</td>\n",
       "      <td>ada</td>\n",
       "    </tr>\n",
       "    <tr>\n",
       "      <th>5</th>\n",
       "      <td>XG Boost</td>\n",
       "      <td>xgb</td>\n",
       "    </tr>\n",
       "    <tr>\n",
       "      <th>6</th>\n",
       "      <td>Logistic Regression</td>\n",
       "      <td>lr</td>\n",
       "    </tr>\n",
       "    <tr>\n",
       "      <th>7</th>\n",
       "      <td>Random Forest</td>\n",
       "      <td>rfc</td>\n",
       "    </tr>\n",
       "    <tr>\n",
       "      <th>8</th>\n",
       "      <td>k Nearest Neighbours</td>\n",
       "      <td>knn</td>\n",
       "    </tr>\n",
       "    <tr>\n",
       "      <th>9</th>\n",
       "      <td>Support Vector Machine</td>\n",
       "      <td>svc</td>\n",
       "    </tr>\n",
       "    <tr>\n",
       "      <th>10</th>\n",
       "      <td>SVM tuning grid</td>\n",
       "      <td>grid</td>\n",
       "    </tr>\n",
       "    <tr>\n",
       "      <th>11</th>\n",
       "      <td>Stacked (RFR &amp; SVM)</td>\n",
       "      <td>stc</td>\n",
       "    </tr>\n",
       "  </tbody>\n",
       "</table>\n",
       "</div>"
      ],
      "text/plain": [
       "                Classifier Imported as\n",
       "0                 LightGBM        lgbm\n",
       "1   Multi Layer Perceptron         mlp\n",
       "2                  Bagging          bc\n",
       "3        Gradient Boosting         gbc\n",
       "4                Ada Boost         ada\n",
       "5                 XG Boost         xgb\n",
       "6      Logistic Regression          lr\n",
       "7            Random Forest         rfc\n",
       "8     k Nearest Neighbours         knn\n",
       "9   Support Vector Machine         svc\n",
       "10         SVM tuning grid        grid\n",
       "11     Stacked (RFR & SVM)         stc"
      ]
     },
     "metadata": {},
     "output_type": "display_data"
    }
   ],
   "source": [
    "display(classifiers)"
   ]
  },
  {
   "cell_type": "code",
   "execution_count": 188,
   "metadata": {
    "execution": {
     "iopub.execute_input": "2025-07-18T21:59:42.521234Z",
     "iopub.status.busy": "2025-07-18T21:59:42.520992Z",
     "iopub.status.idle": "2025-07-18T21:59:42.529997Z",
     "shell.execute_reply": "2025-07-18T21:59:42.529115Z",
     "shell.execute_reply.started": "2025-07-18T21:59:42.521195Z"
    },
    "trusted": true
   },
   "outputs": [],
   "source": [
    "models_to_test = [bc,gbc,ada,rfc,mlp,lr,knn,stc]"
   ]
  },
  {
   "cell_type": "code",
   "execution_count": 189,
   "metadata": {
    "execution": {
     "iopub.execute_input": "2025-07-18T21:59:42.531274Z",
     "iopub.status.busy": "2025-07-18T21:59:42.531041Z",
     "iopub.status.idle": "2025-07-18T21:59:42.549991Z",
     "shell.execute_reply": "2025-07-18T21:59:42.548812Z",
     "shell.execute_reply.started": "2025-07-18T21:59:42.531245Z"
    },
    "trusted": true
   },
   "outputs": [
    {
     "name": "stdout",
     "output_type": "stream",
     "text": [
      "<class 'pandas.core.frame.DataFrame'>\n",
      "Int64Index: 7000 entries, 9069 to 7270\n",
      "Data columns (total 5 columns):\n",
      " #   Column       Non-Null Count  Dtype  \n",
      "---  ------       --------------  -----  \n",
      " 0   airtemp      7000 non-null   float64\n",
      " 1   processtemp  7000 non-null   float64\n",
      " 2   rpm          7000 non-null   int64  \n",
      " 3   torque       7000 non-null   float64\n",
      " 4   toolwear     7000 non-null   int64  \n",
      "dtypes: float64(3), int64(2)\n",
      "memory usage: 328.1 KB\n"
     ]
    }
   ],
   "source": [
    "X_train.info()"
   ]
  },
  {
   "cell_type": "code",
   "execution_count": 190,
   "metadata": {
    "execution": {
     "iopub.execute_input": "2025-07-18T21:59:42.551339Z",
     "iopub.status.busy": "2025-07-18T21:59:42.551111Z",
     "iopub.status.idle": "2025-07-18T21:59:47.965882Z",
     "shell.execute_reply": "2025-07-18T21:59:47.965027Z",
     "shell.execute_reply.started": "2025-07-18T21:59:42.551308Z"
    },
    "trusted": true
   },
   "outputs": [
    {
     "name": "stdout",
     "output_type": "stream",
     "text": [
      "BaggingClassifier() has been fit\n",
      "GradientBoostingClassifier() has been fit\n",
      "AdaBoostClassifier() has been fit\n",
      "RandomForestClassifier() has been fit\n",
      "MLPClassifier() has been fit\n",
      "LogisticRegression() has been fit\n",
      "KNeighborsClassifier(n_neighbors=1) has been fit\n",
      "StackingClassifier(estimators=[('rf',\n",
      "                                RandomForestClassifier(n_estimators=10,\n",
      "                                                       random_state=42)),\n",
      "                               ('svr', SVC(random_state=42))],\n",
      "                   final_estimator=LogisticRegression()) has been fit\n"
     ]
    }
   ],
   "source": [
    "classification = Modelling(X_train,y_train,X_test,y_test,models_to_test)\n",
    "classification.fit()"
   ]
  },
  {
   "cell_type": "code",
   "execution_count": 191,
   "metadata": {
    "execution": {
     "iopub.execute_input": "2025-07-18T21:59:47.967899Z",
     "iopub.status.busy": "2025-07-18T21:59:47.967245Z",
     "iopub.status.idle": "2025-07-18T21:59:47.996250Z",
     "shell.execute_reply": "2025-07-18T21:59:47.995300Z",
     "shell.execute_reply.started": "2025-07-18T21:59:47.967854Z"
    },
    "trusted": true
   },
   "outputs": [
    {
     "data": {
      "text/html": [
       "<div>\n",
       "<style scoped>\n",
       "    .dataframe tbody tr th:only-of-type {\n",
       "        vertical-align: middle;\n",
       "    }\n",
       "\n",
       "    .dataframe tbody tr th {\n",
       "        vertical-align: top;\n",
       "    }\n",
       "\n",
       "    .dataframe thead th {\n",
       "        text-align: right;\n",
       "    }\n",
       "</style>\n",
       "<table border=\"1\" class=\"dataframe\">\n",
       "  <thead>\n",
       "    <tr style=\"text-align: right;\">\n",
       "      <th></th>\n",
       "      <th>Models</th>\n",
       "      <th>Accuracy</th>\n",
       "      <th>Runtime (s)</th>\n",
       "    </tr>\n",
       "  </thead>\n",
       "  <tbody>\n",
       "    <tr>\n",
       "      <th>0</th>\n",
       "      <td>RandomForestClassifier</td>\n",
       "      <td>98.600</td>\n",
       "      <td>0.869807</td>\n",
       "    </tr>\n",
       "    <tr>\n",
       "      <th>1</th>\n",
       "      <td>GradientBoostingClassifier</td>\n",
       "      <td>98.567</td>\n",
       "      <td>0.844978</td>\n",
       "    </tr>\n",
       "    <tr>\n",
       "      <th>2</th>\n",
       "      <td>StackingClassifier</td>\n",
       "      <td>98.567</td>\n",
       "      <td>1.397702</td>\n",
       "    </tr>\n",
       "    <tr>\n",
       "      <th>3</th>\n",
       "      <td>BaggingClassifier</td>\n",
       "      <td>98.500</td>\n",
       "      <td>0.179683</td>\n",
       "    </tr>\n",
       "    <tr>\n",
       "      <th>4</th>\n",
       "      <td>AdaBoostClassifier</td>\n",
       "      <td>97.433</td>\n",
       "      <td>0.303414</td>\n",
       "    </tr>\n",
       "    <tr>\n",
       "      <th>5</th>\n",
       "      <td>LogisticRegression</td>\n",
       "      <td>97.367</td>\n",
       "      <td>0.132963</td>\n",
       "    </tr>\n",
       "    <tr>\n",
       "      <th>6</th>\n",
       "      <td>MLPClassifier</td>\n",
       "      <td>97.133</td>\n",
       "      <td>1.525025</td>\n",
       "    </tr>\n",
       "    <tr>\n",
       "      <th>7</th>\n",
       "      <td>KNeighborsClassifier</td>\n",
       "      <td>95.933</td>\n",
       "      <td>0.139810</td>\n",
       "    </tr>\n",
       "  </tbody>\n",
       "</table>\n",
       "</div>"
      ],
      "text/plain": [
       "                       Models  Accuracy  Runtime (s)\n",
       "0      RandomForestClassifier    98.600     0.869807\n",
       "1  GradientBoostingClassifier    98.567     0.844978\n",
       "2          StackingClassifier    98.567     1.397702\n",
       "3           BaggingClassifier    98.500     0.179683\n",
       "4          AdaBoostClassifier    97.433     0.303414\n",
       "5          LogisticRegression    97.367     0.132963\n",
       "6               MLPClassifier    97.133     1.525025\n",
       "7        KNeighborsClassifier    95.933     0.139810"
      ]
     },
     "execution_count": 191,
     "metadata": {},
     "output_type": "execute_result"
    }
   ],
   "source": [
    "classification.results()"
   ]
  },
  {
   "cell_type": "code",
   "execution_count": 192,
   "metadata": {
    "execution": {
     "iopub.execute_input": "2025-07-18T21:59:47.997637Z",
     "iopub.status.busy": "2025-07-18T21:59:47.997419Z",
     "iopub.status.idle": "2025-07-18T21:59:48.053819Z",
     "shell.execute_reply": "2025-07-18T21:59:48.052950Z",
     "shell.execute_reply.started": "2025-07-18T21:59:47.997610Z"
    },
    "trusted": true
   },
   "outputs": [
    {
     "name": "stdout",
     "output_type": "stream",
     "text": [
      "BestModel is: RandomForestClassifier\n",
      "Accuracy of model: 98.6\n",
      "Training Runtime in seconds 0.87\n",
      "Classification Matrix:\n",
      "\n",
      "              precision    recall  f1-score   support\n",
      "\n",
      "           0       0.99      1.00      0.99      2907\n",
      "           1       0.85      0.67      0.75        93\n",
      "\n",
      "    accuracy                           0.99      3000\n",
      "   macro avg       0.92      0.83      0.87      3000\n",
      "weighted avg       0.99      0.99      0.99      3000\n",
      "\n"
     ]
    }
   ],
   "source": [
    "print('BestModel is:',  classification.best_model(type='name'))\n",
    "print('Accuracy of model:',classification.best_model_accuracy())\n",
    "print('Training Runtime in seconds',classification.best_model_runtime())\n",
    "print('Classification Matrix:\\n')\n",
    "print(classification.best_model_clmatrix())"
   ]
  },
  {
   "cell_type": "markdown",
   "metadata": {},
   "source": [
    "## Analyzing the final model"
   ]
  },
  {
   "cell_type": "code",
   "execution_count": 193,
   "metadata": {
    "execution": {
     "iopub.execute_input": "2025-07-18T21:59:48.055079Z",
     "iopub.status.busy": "2025-07-18T21:59:48.054868Z",
     "iopub.status.idle": "2025-07-18T21:59:48.882131Z",
     "shell.execute_reply": "2025-07-18T21:59:48.881288Z",
     "shell.execute_reply.started": "2025-07-18T21:59:48.055053Z"
    },
    "trusted": true
   },
   "outputs": [
    {
     "data": {
      "text/plain": [
       "RandomForestClassifier()"
      ]
     },
     "execution_count": 193,
     "metadata": {},
     "output_type": "execute_result"
    }
   ],
   "source": [
    "final_model = RandomForestClassifier()\n",
    "final_model.fit(X_train,y_train)"
   ]
  },
  {
   "cell_type": "code",
   "execution_count": 194,
   "metadata": {
    "execution": {
     "iopub.execute_input": "2025-07-18T21:59:48.883358Z",
     "iopub.status.busy": "2025-07-18T21:59:48.883146Z",
     "iopub.status.idle": "2025-07-18T21:59:48.928777Z",
     "shell.execute_reply": "2025-07-18T21:59:48.927981Z",
     "shell.execute_reply.started": "2025-07-18T21:59:48.883333Z"
    },
    "trusted": true
   },
   "outputs": [],
   "source": [
    "y_pred = final_model.predict(X_test)"
   ]
  },
  {
   "cell_type": "code",
   "execution_count": 195,
   "metadata": {
    "execution": {
     "iopub.execute_input": "2025-07-18T21:59:48.930054Z",
     "iopub.status.busy": "2025-07-18T21:59:48.929815Z",
     "iopub.status.idle": "2025-07-18T21:59:49.107432Z",
     "shell.execute_reply": "2025-07-18T21:59:49.106596Z",
     "shell.execute_reply.started": "2025-07-18T21:59:48.930023Z"
    },
    "trusted": true
   },
   "outputs": [
    {
     "data": {
      "image/png": "[encoded data removed]",
      "text/plain": [
       "<Figure size 432x288 with 2 Axes>"
      ]
     },
     "metadata": {},
     "output_type": "display_data"
    }
   ],
   "source": [
    "from sklearn.metrics import confusion_matrix\n",
    "from sklearn.metrics import ConfusionMatrixDisplay\n",
    "\n",
    "cm = confusion_matrix(y_test, y_pred)\n",
    "\n",
    "disp = ConfusionMatrixDisplay(confusion_matrix=cm, display_labels=model.classes_)\n",
    "disp.plot(cmap=plt.cm.Blues)\n",
    "plt.title(\"Confusion Matrix\")\n",
    "plt.show()"
   ]
  },
  {
   "cell_type": "markdown",
   "metadata": {},
   "source": [
    "## Inference"
   ]
  },
  {
   "cell_type": "code",
   "execution_count": 205,
   "metadata": {
    "execution": {
     "iopub.execute_input": "2025-07-18T22:06:03.198908Z",
     "iopub.status.busy": "2025-07-18T22:06:03.198589Z",
     "iopub.status.idle": "2025-07-18T22:06:03.208240Z",
     "shell.execute_reply": "2025-07-18T22:06:03.207438Z",
     "shell.execute_reply.started": "2025-07-18T22:06:03.198874Z"
    },
    "trusted": true
   },
   "outputs": [],
   "source": [
    "data = data.rename(columns={\n",
    "    'Air temperature [K]': 'airtemp',\n",
    "    'Process temperature [K]': 'processtemp',\n",
    "    'Rotational speed [rpm]': 'rpm',\n",
    "    'Torque [Nm]': 'torque',\n",
    "    'Tool wear [min]': 'toolwear'\n",
    "})\n",
    "\n",
    "features = ['airtemp', 'processtemp', 'rpm', 'torque', 'toolwear']\n",
    "\n",
    "\n",
    "\n",
    "def predict_new_failure(data_dict, model, encoder, features):\n",
    "\n",
    "   \n",
    "    new_df = pd.DataFrame([data_dict])\n",
    "\n",
    "    new_df = new_df.rename(columns={\n",
    "        'Air temperature [K]': 'airtemp',\n",
    "        'Process temperature [K]': 'processtemp',\n",
    "        'Rotational speed [rpm]': 'rpm',\n",
    "        'Torque [Nm]': 'torque',\n",
    "        'Tool wear [min]': 'toolwear'\n",
    "    })\n",
    "\n",
    "\n",
    "    new_X = new_df[features]\n",
    "\n",
    "    prediction = model.predict(new_X)\n",
    "    probability = model.predict_proba(new_X)\n",
    "\n",
    "    \n",
    "    if prediction[0] == 1:\n",
    "        confidence = probability[0][1] * 100\n",
    "        return f\"Prédiction : PANNE DÉTECTÉE (Confiance : {confidence:.2f}%)\"\n",
    "    else:\n",
    "        confidence = probability[0][0] * 100\n",
    "        return f\"Prédiction : Pas de Panne (Confiance : {confidence:.2f}%)\""
   ]
  },
  {
   "cell_type": "code",
   "execution_count": 207,
   "metadata": {
    "execution": {
     "iopub.execute_input": "2025-07-18T22:06:12.738279Z",
     "iopub.status.busy": "2025-07-18T22:06:12.738012Z",
     "iopub.status.idle": "2025-07-18T22:06:12.780932Z",
     "shell.execute_reply": "2025-07-18T22:06:12.780042Z",
     "shell.execute_reply.started": "2025-07-18T22:06:12.738252Z"
    },
    "trusted": true
   },
   "outputs": [
    {
     "name": "stdout",
     "output_type": "stream",
     "text": [
      "Prédiction : Pas de Panne (Confiance : 100.00%)\n"
     ]
    }
   ],
   "source": [
    "normal_data = {\n",
    "    \"Air temperature [K]\": 300.1,\n",
    "    \"Process temperature [K]\": 310.2,\n",
    "    \"Rotational speed [rpm]\": 1500,\n",
    "    \"Torque [Nm]\": 40.5,\n",
    "    \"Tool wear [min]\": 50\n",
    "}\n",
    "\n",
    "\n",
    "suspect_data = {\n",
    "    \"Air temperature [K]\": 303.4,\n",
    "    \"Process temperature [K]\": 312.8,\n",
    "    \"Rotational speed [rpm]\": 1350,\n",
    "    \"Torque [Nm]\": 75.2,  # Valeur élevée\n",
    "    \"Tool wear [min]\": 210  # Valeur élevée\n",
    "}\n",
    "\n",
    "prediction_1 = predict_new_failure(normal_data, final_model, type_encoder, features)\n",
    "print(prediction_1)"
   ]
  },
  {
   "cell_type": "code",
   "execution_count": null,
   "metadata": {
    "trusted": true
   },
   "outputs": [],
   "source": [
    "import pickle\n",
    "with open('model.pkl', 'wb') as f:\n",
    "    pickle.dump(rfc, f)"
   ]
  }
 ],
 "metadata": {
  "kaggle": {
   "accelerator": "none",
   "dataSources": [
    {
     "datasetId": 1697740,
     "sourceId": 2781015,
     "sourceType": "datasetVersion"
    }
   ],
   "dockerImageVersionId": 30145,
   "isGpuEnabled": false,
   "isInternetEnabled": true,
   "language": "python",
   "sourceType": "notebook"
  },
  "kernelspec": {
   "display_name": "Python 3",
   "language": "python",
   "name": "python3"
  },
  "language_info": {
   "codemirror_mode": {
    "name": "ipython",
    "version": 3
   },
   "file_extension": ".py",
   "mimetype": "text/x-python",
   "name": "python",
   "nbconvert_exporter": "python",
   "pygments_lexer": "ipython3",
   "version": "3.7.10"
  }
 },
 "nbformat": 4,
 "nbformat_minor": 4
}
